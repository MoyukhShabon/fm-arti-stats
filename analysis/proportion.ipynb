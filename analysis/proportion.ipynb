{
 "cells": [
  {
   "cell_type": "code",
   "execution_count": 3,
   "id": "2c8b1072",
   "metadata": {},
   "outputs": [],
   "source": [
    "import polars as pl\n",
    "import os\n",
    "import glob"
   ]
  },
  {
   "cell_type": "code",
   "execution_count": null,
   "id": "ac5234c1",
   "metadata": {},
   "outputs": [],
   "source": [
    "ffpe_pred_path = glob.glob(\"../ffpe-snvf/*/*.pred_fp-cut_1e-08.tsv\")\n",
    "oxog_pred_path = glob.glob(\"../oxog-snvf/*/*.pred_fp-cut_1e-08.tsv\")"
   ]
  },
  {
   "cell_type": "code",
   "execution_count": 13,
   "id": "37b4756f",
   "metadata": {},
   "outputs": [],
   "source": [
    "def calc_arti_prop(artifact_pred_paths: list) -> pl.DataFrame:\n",
    "\tarti_prop = []\n",
    "\n",
    "\tfor path in artifact_pred_paths:\n",
    "\t\t\n",
    "\t\tartifact_pred = pl.read_csv(path, separator=\"\\t\")\n",
    "\n",
    "\t\tsnvs = artifact_pred.shape[0]\n",
    "\t\tartifacts = artifact_pred.filter(pl.col(\"pred\") == False).shape[0]\n",
    "\n",
    "\t\tsample_stats = {\n",
    "\t\t\t\"sample_name\" : os.path.basename(path).split(\".\")[0],\n",
    "\t\t\t\"n_snv\" : snvs,\n",
    "\t\t\t\"n_real\" : (snvs - artifacts),\n",
    "\t\t\t\"n_artifacts\" : artifacts,\n",
    "\t\t\t\"proportion\" : (artifacts / snvs)\n",
    "\t\t}\n",
    "\n",
    "\t\tarti_prop.append(sample_stats)\n",
    "\n",
    "\tarti_prop = pl.DataFrame(arti_prop).sort(\"proportion\", descending=True)\n",
    "\treturn arti_prop"
   ]
  },
  {
   "cell_type": "code",
   "execution_count": 19,
   "id": "bf33eb95",
   "metadata": {},
   "outputs": [],
   "source": [
    "def get_stats(arti_prop: pl.DataFrame) -> None:\n",
    "\tmean_pct = arti_prop[\"proportion\"].mean() * 100\n",
    "\tmax_pct = arti_prop[\"proportion\"].max() * 100\n",
    "\tn_samples = arti_prop.shape[0]\n",
    "\tn_with_artifacts = arti_prop.filter(pl.col(\"proportion\") > 0).shape[0]\n",
    "\n",
    "\tprint(f\"Samples analyzed: {n_samples}\")\n",
    "\tprint(f\"Samples with ≥1 predicted artifact: {n_with_artifacts} ({n_with_artifacts / n_samples * 100:.1f}%)\")\n",
    "\tprint(f\"Mean proportion of artifactual SNVs: {mean_pct:.2f}%\")\n",
    "\tprint(f\"Max proportion of artifactual SNVs: {max_pct:.2f}%\")"
   ]
  },
  {
   "cell_type": "code",
   "execution_count": 62,
   "id": "784ab8d6",
   "metadata": {},
   "outputs": [],
   "source": [
    "def get_res(damage_type: str, fp_cut: float) -> pl.DataFrame:\n",
    "\t\n",
    "\tarti_pred_paths = glob.glob(f\"../{damage_type.lower()}-snvf/*/*.pred_fp-cut_{fp_cut:.0e}.tsv\")\n",
    "\n",
    "\tproportions = calc_arti_prop(arti_pred_paths)\n",
    "\n",
    "\tprint(f\"fp-cut: {fp_cut}\")\n",
    "\tget_stats(proportions)\n",
    "\n",
    "\tproportions.write_csv(f\"{damage_type}_proportions_per_sample.fp-cut_{fp_cut:.0e}.tsv\", separator=\"\\t\")\n",
    "\treturn proportions"
   ]
  },
  {
   "cell_type": "markdown",
   "id": "af430450",
   "metadata": {},
   "source": [
    "## FFPE"
   ]
  },
  {
   "cell_type": "code",
   "execution_count": 58,
   "id": "7e20e9e0",
   "metadata": {},
   "outputs": [
    {
     "name": "stdout",
     "output_type": "stream",
     "text": [
      "fp-cut: 1e-08\n",
      "Samples analyzed: 425\n",
      "Samples with ≥1 predicted artifact: 81 (19.1%)\n",
      "Mean proportion of artifactual SNVs: 0.93%\n",
      "Max proportion of artifactual SNVs: 25.00%\n"
     ]
    },
    {
     "data": {
      "application/vnd.microsoft.datawrangler.viewer.v0+json": {
       "columns": [
        {
         "name": "index",
         "rawType": "int64",
         "type": "integer"
        },
        {
         "name": "sample_name",
         "rawType": "object",
         "type": "string"
        },
        {
         "name": "n_snv",
         "rawType": "int64",
         "type": "integer"
        },
        {
         "name": "n_real",
         "rawType": "int64",
         "type": "integer"
        },
        {
         "name": "n_artifacts",
         "rawType": "int64",
         "type": "integer"
        },
        {
         "name": "proportion",
         "rawType": "float64",
         "type": "float"
        }
       ],
       "ref": "0908afef-badb-4837-a74f-112ee302318a",
       "rows": [
        [
         "0",
         "ORD-1010565-01",
         "12",
         "9",
         "3",
         "0.25"
        ],
        [
         "1",
         "ORD-1587905-01",
         "41",
         "32",
         "9",
         "0.21951219512195122"
        ],
        [
         "2",
         "ORD-1597650-01",
         "43",
         "36",
         "7",
         "0.16279069767441862"
        ],
        [
         "3",
         "ORD-1222219-01",
         "35",
         "30",
         "5",
         "0.14285714285714285"
        ],
        [
         "4",
         "ORD-1472408-01",
         "36",
         "31",
         "5",
         "0.1388888888888889"
        ],
        [
         "5",
         "ORD-1595187-01",
         "66",
         "57",
         "9",
         "0.13636363636363635"
        ],
        [
         "6",
         "ORD-1166521-01",
         "28",
         "25",
         "3",
         "0.10714285714285714"
        ],
        [
         "7",
         "ORD-1452205-01",
         "30",
         "27",
         "3",
         "0.1"
        ],
        [
         "8",
         "ORD-1537287-01",
         "11",
         "10",
         "1",
         "0.09090909090909091"
        ],
        [
         "9",
         "ORD-1598169-01",
         "66",
         "60",
         "6",
         "0.09090909090909091"
        ],
        [
         "10",
         "ORD-1574413-01",
         "34",
         "31",
         "3",
         "0.08823529411764706"
        ],
        [
         "11",
         "ORD-1223720-01",
         "46",
         "42",
         "4",
         "0.08695652173913043"
        ],
        [
         "12",
         "ORD-1474214-01",
         "36",
         "33",
         "3",
         "0.08333333333333333"
        ],
        [
         "13",
         "ORD-1219316-01",
         "26",
         "24",
         "2",
         "0.07692307692307693"
        ],
        [
         "14",
         "ORD-1521390-01",
         "40",
         "37",
         "3",
         "0.075"
        ],
        [
         "15",
         "ORD-1512958-01",
         "27",
         "25",
         "2",
         "0.07407407407407407"
        ],
        [
         "16",
         "ORD-1598130-01",
         "56",
         "52",
         "4",
         "0.07142857142857142"
        ],
        [
         "17",
         "ORD-1390991-01",
         "90",
         "84",
         "6",
         "0.06666666666666667"
        ],
        [
         "18",
         "ORD-1593217-01",
         "47",
         "44",
         "3",
         "0.06382978723404255"
        ],
        [
         "19",
         "ORD-1354833-01",
         "32",
         "30",
         "2",
         "0.0625"
        ],
        [
         "20",
         "ORD-1602313-01",
         "37",
         "35",
         "2",
         "0.05405405405405406"
        ],
        [
         "21",
         "ORD-1598641-01",
         "38",
         "36",
         "2",
         "0.05263157894736842"
        ],
        [
         "22",
         "ORD-1260964-01",
         "61",
         "58",
         "3",
         "0.04918032786885246"
        ],
        [
         "23",
         "ORD-1487773-01",
         "41",
         "39",
         "2",
         "0.04878048780487805"
        ],
        [
         "24",
         "ORD-1435954-01",
         "43",
         "41",
         "2",
         "0.046511627906976744"
        ],
        [
         "25",
         "ORD-1512957-01",
         "66",
         "63",
         "3",
         "0.045454545454545456"
        ],
        [
         "26",
         "ORD-1431387-01",
         "22",
         "21",
         "1",
         "0.045454545454545456"
        ],
        [
         "27",
         "ORD-1297856-01",
         "73",
         "70",
         "3",
         "0.0410958904109589"
        ],
        [
         "28",
         "ORD-1304370-01",
         "25",
         "24",
         "1",
         "0.04"
        ],
        [
         "29",
         "ORD-1289720-01",
         "25",
         "24",
         "1",
         "0.04"
        ],
        [
         "30",
         "ORD-1227898-01",
         "25",
         "24",
         "1",
         "0.04"
        ],
        [
         "31",
         "ORD-1457489-01",
         "26",
         "25",
         "1",
         "0.038461538461538464"
        ],
        [
         "32",
         "ORD-1562107-01",
         "26",
         "25",
         "1",
         "0.038461538461538464"
        ],
        [
         "33",
         "ORD-1307761-01",
         "26",
         "25",
         "1",
         "0.038461538461538464"
        ],
        [
         "34",
         "ORD-1506167-01",
         "53",
         "51",
         "2",
         "0.03773584905660377"
        ],
        [
         "35",
         "ORD-1287908-01",
         "27",
         "26",
         "1",
         "0.037037037037037035"
        ],
        [
         "36",
         "ORD-1359410-01",
         "55",
         "53",
         "2",
         "0.03636363636363636"
        ],
        [
         "37",
         "ORD-1478649-01",
         "28",
         "27",
         "1",
         "0.03571428571428571"
        ],
        [
         "38",
         "ORD-1565808-01",
         "29",
         "28",
         "1",
         "0.034482758620689655"
        ],
        [
         "39",
         "ORD-1601271-01",
         "29",
         "28",
         "1",
         "0.034482758620689655"
        ],
        [
         "40",
         "ORD-1505148-01",
         "91",
         "88",
         "3",
         "0.03296703296703297"
        ],
        [
         "41",
         "ORD-1127305-01",
         "31",
         "30",
         "1",
         "0.03225806451612903"
        ],
        [
         "42",
         "ORD-1506083-01",
         "32",
         "31",
         "1",
         "0.03125"
        ],
        [
         "43",
         "ORD-1431472-01",
         "32",
         "31",
         "1",
         "0.03125"
        ],
        [
         "44",
         "ORD-1452014-01",
         "33",
         "32",
         "1",
         "0.030303030303030304"
        ],
        [
         "45",
         "ORD-1087392-01",
         "68",
         "66",
         "2",
         "0.029411764705882353"
        ],
        [
         "46",
         "ORD-1474213-01",
         "34",
         "33",
         "1",
         "0.029411764705882353"
        ],
        [
         "47",
         "ORD-1578252-01",
         "36",
         "35",
         "1",
         "0.027777777777777776"
        ],
        [
         "48",
         "ORD-1412607-01",
         "36",
         "35",
         "1",
         "0.027777777777777776"
        ],
        [
         "49",
         "ORD-1248060-01",
         "36",
         "35",
         "1",
         "0.027777777777777776"
        ]
       ],
       "shape": {
        "columns": 5,
        "rows": 425
       }
      },
      "text/html": [
       "<div><style>\n",
       ".dataframe > thead > tr,\n",
       ".dataframe > tbody > tr {\n",
       "  text-align: right;\n",
       "  white-space: pre-wrap;\n",
       "}\n",
       "</style>\n",
       "<small>shape: (425, 5)</small><table border=\"1\" class=\"dataframe\"><thead><tr><th>sample_name</th><th>n_snv</th><th>n_real</th><th>n_artifacts</th><th>proportion</th></tr><tr><td>str</td><td>i64</td><td>i64</td><td>i64</td><td>f64</td></tr></thead><tbody><tr><td>&quot;ORD-1010565-01&quot;</td><td>12</td><td>9</td><td>3</td><td>0.25</td></tr><tr><td>&quot;ORD-1587905-01&quot;</td><td>41</td><td>32</td><td>9</td><td>0.219512</td></tr><tr><td>&quot;ORD-1597650-01&quot;</td><td>43</td><td>36</td><td>7</td><td>0.162791</td></tr><tr><td>&quot;ORD-1222219-01&quot;</td><td>35</td><td>30</td><td>5</td><td>0.142857</td></tr><tr><td>&quot;ORD-1472408-01&quot;</td><td>36</td><td>31</td><td>5</td><td>0.138889</td></tr><tr><td>&hellip;</td><td>&hellip;</td><td>&hellip;</td><td>&hellip;</td><td>&hellip;</td></tr><tr><td>&quot;ORD-1042000-01&quot;</td><td>35</td><td>35</td><td>0</td><td>0.0</td></tr><tr><td>&quot;ORD-1555240-01&quot;</td><td>11</td><td>11</td><td>0</td><td>0.0</td></tr><tr><td>&quot;ORD-1472386-01&quot;</td><td>45</td><td>45</td><td>0</td><td>0.0</td></tr><tr><td>&quot;ORD-1458564-01&quot;</td><td>20</td><td>20</td><td>0</td><td>0.0</td></tr><tr><td>&quot;ORD-1310482-01&quot;</td><td>43</td><td>43</td><td>0</td><td>0.0</td></tr></tbody></table></div>"
      ],
      "text/plain": [
       "shape: (425, 5)\n",
       "┌────────────────┬───────┬────────┬─────────────┬────────────┐\n",
       "│ sample_name    ┆ n_snv ┆ n_real ┆ n_artifacts ┆ proportion │\n",
       "│ ---            ┆ ---   ┆ ---    ┆ ---         ┆ ---        │\n",
       "│ str            ┆ i64   ┆ i64    ┆ i64         ┆ f64        │\n",
       "╞════════════════╪═══════╪════════╪═════════════╪════════════╡\n",
       "│ ORD-1010565-01 ┆ 12    ┆ 9      ┆ 3           ┆ 0.25       │\n",
       "│ ORD-1587905-01 ┆ 41    ┆ 32     ┆ 9           ┆ 0.219512   │\n",
       "│ ORD-1597650-01 ┆ 43    ┆ 36     ┆ 7           ┆ 0.162791   │\n",
       "│ ORD-1222219-01 ┆ 35    ┆ 30     ┆ 5           ┆ 0.142857   │\n",
       "│ ORD-1472408-01 ┆ 36    ┆ 31     ┆ 5           ┆ 0.138889   │\n",
       "│ …              ┆ …     ┆ …      ┆ …           ┆ …          │\n",
       "│ ORD-1042000-01 ┆ 35    ┆ 35     ┆ 0           ┆ 0.0        │\n",
       "│ ORD-1555240-01 ┆ 11    ┆ 11     ┆ 0           ┆ 0.0        │\n",
       "│ ORD-1472386-01 ┆ 45    ┆ 45     ┆ 0           ┆ 0.0        │\n",
       "│ ORD-1458564-01 ┆ 20    ┆ 20     ┆ 0           ┆ 0.0        │\n",
       "│ ORD-1310482-01 ┆ 43    ┆ 43     ┆ 0           ┆ 0.0        │\n",
       "└────────────────┴───────┴────────┴─────────────┴────────────┘"
      ]
     },
     "execution_count": 58,
     "metadata": {},
     "output_type": "execute_result"
    }
   ],
   "source": [
    "get_res(\"ffpe\", 1e-08)"
   ]
  },
  {
   "cell_type": "code",
   "execution_count": 59,
   "id": "3a232cb4",
   "metadata": {},
   "outputs": [
    {
     "name": "stdout",
     "output_type": "stream",
     "text": [
      "fp-cut: 0.5\n",
      "Samples analyzed: 425\n",
      "Samples with ≥1 predicted artifact: 24 (5.6%)\n",
      "Mean proportion of artifactual SNVs: 0.26%\n",
      "Max proportion of artifactual SNVs: 25.00%\n"
     ]
    },
    {
     "data": {
      "application/vnd.microsoft.datawrangler.viewer.v0+json": {
       "columns": [
        {
         "name": "index",
         "rawType": "int64",
         "type": "integer"
        },
        {
         "name": "sample_name",
         "rawType": "object",
         "type": "string"
        },
        {
         "name": "n_snv",
         "rawType": "int64",
         "type": "integer"
        },
        {
         "name": "n_real",
         "rawType": "int64",
         "type": "integer"
        },
        {
         "name": "n_artifacts",
         "rawType": "int64",
         "type": "integer"
        },
        {
         "name": "proportion",
         "rawType": "float64",
         "type": "float"
        }
       ],
       "ref": "74c1814e-527a-421a-a4f4-fb6c944ce5ab",
       "rows": [
        [
         "0",
         "ORD-1010565-01",
         "12",
         "9",
         "3",
         "0.25"
        ],
        [
         "1",
         "ORD-1587905-01",
         "41",
         "36",
         "5",
         "0.12195121951219512"
        ],
        [
         "2",
         "ORD-1595187-01",
         "66",
         "60",
         "6",
         "0.09090909090909091"
        ],
        [
         "3",
         "ORD-1472408-01",
         "36",
         "33",
         "3",
         "0.08333333333333333"
        ],
        [
         "4",
         "ORD-1474214-01",
         "36",
         "34",
         "2",
         "0.05555555555555555"
        ],
        [
         "5",
         "ORD-1521390-01",
         "40",
         "38",
         "2",
         "0.05"
        ],
        [
         "6",
         "ORD-1598169-01",
         "66",
         "63",
         "3",
         "0.045454545454545456"
        ],
        [
         "7",
         "ORD-1512958-01",
         "27",
         "26",
         "1",
         "0.037037037037037035"
        ],
        [
         "8",
         "ORD-1452205-01",
         "30",
         "29",
         "1",
         "0.03333333333333333"
        ],
        [
         "9",
         "ORD-1512957-01",
         "66",
         "64",
         "2",
         "0.030303030303030304"
        ],
        [
         "10",
         "ORD-1574413-01",
         "34",
         "33",
         "1",
         "0.029411764705882353"
        ],
        [
         "11",
         "ORD-1578252-01",
         "36",
         "35",
         "1",
         "0.027777777777777776"
        ],
        [
         "12",
         "ORD-1417847-01",
         "37",
         "36",
         "1",
         "0.02702702702702703"
        ],
        [
         "13",
         "ORD-1535775-01",
         "37",
         "36",
         "1",
         "0.02702702702702703"
        ],
        [
         "14",
         "ORD-1487773-01",
         "41",
         "40",
         "1",
         "0.024390243902439025"
        ],
        [
         "15",
         "ORD-1502104-01",
         "42",
         "41",
         "1",
         "0.023809523809523808"
        ],
        [
         "16",
         "ORD-1597650-01",
         "43",
         "42",
         "1",
         "0.023255813953488372"
        ],
        [
         "17",
         "ORD-1394042-01",
         "44",
         "43",
         "1",
         "0.022727272727272728"
        ],
        [
         "18",
         "ORD-1223720-01",
         "46",
         "45",
         "1",
         "0.021739130434782608"
        ],
        [
         "19",
         "ORD-1506167-01",
         "53",
         "52",
         "1",
         "0.018867924528301886"
        ],
        [
         "20",
         "ORD-1362467-01",
         "60",
         "59",
         "1",
         "0.016666666666666666"
        ],
        [
         "21",
         "ORD-1260964-01",
         "61",
         "60",
         "1",
         "0.01639344262295082"
        ],
        [
         "22",
         "ORD-1568103-01",
         "67",
         "66",
         "1",
         "0.014925373134328358"
        ],
        [
         "23",
         "ORD-1087392-01",
         "68",
         "67",
         "1",
         "0.014705882352941176"
        ],
        [
         "24",
         "ORD-1287908-01",
         "27",
         "27",
         "0",
         "0.0"
        ],
        [
         "25",
         "ORD-1419853-01",
         "22",
         "22",
         "0",
         "0.0"
        ],
        [
         "26",
         "ORD-1414663-01",
         "12",
         "12",
         "0",
         "0.0"
        ],
        [
         "27",
         "ORD-1513115-01",
         "21",
         "21",
         "0",
         "0.0"
        ],
        [
         "28",
         "ORD-1575605-01",
         "10",
         "10",
         "0",
         "0.0"
        ],
        [
         "29",
         "ORD-1306616-01",
         "17",
         "17",
         "0",
         "0.0"
        ],
        [
         "30",
         "ORD-1325097-01",
         "54",
         "54",
         "0",
         "0.0"
        ],
        [
         "31",
         "ORD-1285692-01",
         "20",
         "20",
         "0",
         "0.0"
        ],
        [
         "32",
         "ORD-1462572-01",
         "56",
         "56",
         "0",
         "0.0"
        ],
        [
         "33",
         "ORD-1499978-01",
         "35",
         "35",
         "0",
         "0.0"
        ],
        [
         "34",
         "ORD-1303567-01",
         "58",
         "58",
         "0",
         "0.0"
        ],
        [
         "35",
         "ORD-1198921-01",
         "43",
         "43",
         "0",
         "0.0"
        ],
        [
         "36",
         "ORD-1406220-01",
         "10",
         "10",
         "0",
         "0.0"
        ],
        [
         "37",
         "ORD-1452971-01",
         "10",
         "10",
         "0",
         "0.0"
        ],
        [
         "38",
         "ORD-1556064-01",
         "12",
         "12",
         "0",
         "0.0"
        ],
        [
         "39",
         "ORD-1307819-01",
         "56",
         "56",
         "0",
         "0.0"
        ],
        [
         "40",
         "ORD-1457373-01",
         "5",
         "5",
         "0",
         "0.0"
        ],
        [
         "41",
         "ORD-1458561-01",
         "16",
         "16",
         "0",
         "0.0"
        ],
        [
         "42",
         "ORD-1597562-01",
         "38",
         "38",
         "0",
         "0.0"
        ],
        [
         "43",
         "ORD-1333158-01",
         "44",
         "44",
         "0",
         "0.0"
        ],
        [
         "44",
         "ORD-1452014-01",
         "33",
         "33",
         "0",
         "0.0"
        ],
        [
         "45",
         "ORD-1571962-01",
         "11",
         "11",
         "0",
         "0.0"
        ],
        [
         "46",
         "ORD-1572657-01",
         "48",
         "48",
         "0",
         "0.0"
        ],
        [
         "47",
         "ORD-1478649-01",
         "28",
         "28",
         "0",
         "0.0"
        ],
        [
         "48",
         "ORD-1474094-01",
         "31",
         "31",
         "0",
         "0.0"
        ],
        [
         "49",
         "ORD-1542738-01",
         "31",
         "31",
         "0",
         "0.0"
        ]
       ],
       "shape": {
        "columns": 5,
        "rows": 425
       }
      },
      "text/html": [
       "<div><style>\n",
       ".dataframe > thead > tr,\n",
       ".dataframe > tbody > tr {\n",
       "  text-align: right;\n",
       "  white-space: pre-wrap;\n",
       "}\n",
       "</style>\n",
       "<small>shape: (425, 5)</small><table border=\"1\" class=\"dataframe\"><thead><tr><th>sample_name</th><th>n_snv</th><th>n_real</th><th>n_artifacts</th><th>proportion</th></tr><tr><td>str</td><td>i64</td><td>i64</td><td>i64</td><td>f64</td></tr></thead><tbody><tr><td>&quot;ORD-1010565-01&quot;</td><td>12</td><td>9</td><td>3</td><td>0.25</td></tr><tr><td>&quot;ORD-1587905-01&quot;</td><td>41</td><td>36</td><td>5</td><td>0.121951</td></tr><tr><td>&quot;ORD-1595187-01&quot;</td><td>66</td><td>60</td><td>6</td><td>0.090909</td></tr><tr><td>&quot;ORD-1472408-01&quot;</td><td>36</td><td>33</td><td>3</td><td>0.083333</td></tr><tr><td>&quot;ORD-1474214-01&quot;</td><td>36</td><td>34</td><td>2</td><td>0.055556</td></tr><tr><td>&hellip;</td><td>&hellip;</td><td>&hellip;</td><td>&hellip;</td><td>&hellip;</td></tr><tr><td>&quot;ORD-1042000-01&quot;</td><td>35</td><td>35</td><td>0</td><td>0.0</td></tr><tr><td>&quot;ORD-1555240-01&quot;</td><td>11</td><td>11</td><td>0</td><td>0.0</td></tr><tr><td>&quot;ORD-1472386-01&quot;</td><td>45</td><td>45</td><td>0</td><td>0.0</td></tr><tr><td>&quot;ORD-1458564-01&quot;</td><td>20</td><td>20</td><td>0</td><td>0.0</td></tr><tr><td>&quot;ORD-1310482-01&quot;</td><td>43</td><td>43</td><td>0</td><td>0.0</td></tr></tbody></table></div>"
      ],
      "text/plain": [
       "shape: (425, 5)\n",
       "┌────────────────┬───────┬────────┬─────────────┬────────────┐\n",
       "│ sample_name    ┆ n_snv ┆ n_real ┆ n_artifacts ┆ proportion │\n",
       "│ ---            ┆ ---   ┆ ---    ┆ ---         ┆ ---        │\n",
       "│ str            ┆ i64   ┆ i64    ┆ i64         ┆ f64        │\n",
       "╞════════════════╪═══════╪════════╪═════════════╪════════════╡\n",
       "│ ORD-1010565-01 ┆ 12    ┆ 9      ┆ 3           ┆ 0.25       │\n",
       "│ ORD-1587905-01 ┆ 41    ┆ 36     ┆ 5           ┆ 0.121951   │\n",
       "│ ORD-1595187-01 ┆ 66    ┆ 60     ┆ 6           ┆ 0.090909   │\n",
       "│ ORD-1472408-01 ┆ 36    ┆ 33     ┆ 3           ┆ 0.083333   │\n",
       "│ ORD-1474214-01 ┆ 36    ┆ 34     ┆ 2           ┆ 0.055556   │\n",
       "│ …              ┆ …     ┆ …      ┆ …           ┆ …          │\n",
       "│ ORD-1042000-01 ┆ 35    ┆ 35     ┆ 0           ┆ 0.0        │\n",
       "│ ORD-1555240-01 ┆ 11    ┆ 11     ┆ 0           ┆ 0.0        │\n",
       "│ ORD-1472386-01 ┆ 45    ┆ 45     ┆ 0           ┆ 0.0        │\n",
       "│ ORD-1458564-01 ┆ 20    ┆ 20     ┆ 0           ┆ 0.0        │\n",
       "│ ORD-1310482-01 ┆ 43    ┆ 43     ┆ 0           ┆ 0.0        │\n",
       "└────────────────┴───────┴────────┴─────────────┴────────────┘"
      ]
     },
     "execution_count": 59,
     "metadata": {},
     "output_type": "execute_result"
    }
   ],
   "source": [
    "get_res(\"ffpe\", 5e-01)"
   ]
  },
  {
   "cell_type": "markdown",
   "id": "09dd3b51",
   "metadata": {},
   "source": [
    "#### Observations - FFPE\n",
    "\n",
    "**2025/10/24**\n",
    "\n",
    "Out of 204 samples analyzed so far.\n",
    "\n",
    "- Using a stringent fp-cut of 1e-08: \n",
    "\t- 39/204 samples (19.1%) was observed to possess artifacts. \n",
    "\t- In terms of proportion of artifactual SNVs, the max was 25%, mean was 0.94 %\n",
    "\n",
    "- Using a relaxed fp-cut of 5e-01: \n",
    "\t- 9/204 samples (4.4%) was observed to possess artifacts. \n",
    "\t- In terms of proportion of artifactual SNVs, the max was 25%, mean was 0.24 %\n",
    "\n",
    "\n",
    "**2025/10/27**\n",
    "\n",
    "Out of 425 samples analyzed so far.\n",
    "\n",
    "- Using a stringent fp-cut of 1e-08: \n",
    "\t- 81/425 samples (19.1%) was observed to possess artifacts. \n",
    "\t- In terms of proportion of artifactual SNVs, the max was 25%, mean was 0.93 %\n",
    "\n",
    "- Using a relaxed fp-cut of 5e-01: \n",
    "\t- 24/425 samples (5.6%) was observed to possess artifacts. \n",
    "\t- In terms of proportion of artifactual SNVs, the max was 25%, mean was 0.26 %"
   ]
  },
  {
   "cell_type": "markdown",
   "id": "26f395c8",
   "metadata": {},
   "source": [
    "## OxoG"
   ]
  },
  {
   "cell_type": "code",
   "execution_count": 60,
   "id": "cbf6c576",
   "metadata": {},
   "outputs": [
    {
     "name": "stdout",
     "output_type": "stream",
     "text": [
      "fp-cut: 1e-08\n",
      "Samples analyzed: 425\n",
      "Samples with ≥1 predicted artifact: 36 (8.5%)\n",
      "Mean proportion of artifactual SNVs: 0.34%\n",
      "Max proportion of artifactual SNVs: 25.00%\n"
     ]
    },
    {
     "data": {
      "application/vnd.microsoft.datawrangler.viewer.v0+json": {
       "columns": [
        {
         "name": "index",
         "rawType": "int64",
         "type": "integer"
        },
        {
         "name": "sample_name",
         "rawType": "object",
         "type": "string"
        },
        {
         "name": "n_snv",
         "rawType": "int64",
         "type": "integer"
        },
        {
         "name": "n_real",
         "rawType": "int64",
         "type": "integer"
        },
        {
         "name": "n_artifacts",
         "rawType": "int64",
         "type": "integer"
        },
        {
         "name": "proportion",
         "rawType": "float64",
         "type": "float"
        }
       ],
       "ref": "61f53ae5-9f3a-43b0-9c51-9abae2be0361",
       "rows": [
        [
         "0",
         "ORD-1010565-01",
         "12",
         "9",
         "3",
         "0.25"
        ],
        [
         "1",
         "ORD-1050682-01",
         "8",
         "7",
         "1",
         "0.125"
        ],
        [
         "2",
         "ORD-1487773-01",
         "41",
         "37",
         "4",
         "0.0975609756097561"
        ],
        [
         "3",
         "ORD-1521390-01",
         "40",
         "37",
         "3",
         "0.075"
        ],
        [
         "4",
         "ORD-1127305-01",
         "31",
         "29",
         "2",
         "0.06451612903225806"
        ],
        [
         "5",
         "ORD-1546506-01",
         "16",
         "15",
         "1",
         "0.0625"
        ],
        [
         "6",
         "ORD-1401749-01",
         "57",
         "54",
         "3",
         "0.05263157894736842"
        ],
        [
         "7",
         "ORD-1539713-01",
         "20",
         "19",
         "1",
         "0.05"
        ],
        [
         "8",
         "ORD-1297851-01",
         "26",
         "25",
         "1",
         "0.038461538461538464"
        ],
        [
         "9",
         "ORD-1598130-01",
         "56",
         "54",
         "2",
         "0.03571428571428571"
        ],
        [
         "10",
         "ORD-1506072-01",
         "29",
         "28",
         "1",
         "0.034482758620689655"
        ],
        [
         "11",
         "ORD-1260964-01",
         "61",
         "59",
         "2",
         "0.03278688524590164"
        ],
        [
         "12",
         "ORD-1325105-01",
         "32",
         "31",
         "1",
         "0.03125"
        ],
        [
         "13",
         "ORD-1537276-01",
         "33",
         "32",
         "1",
         "0.030303030303030304"
        ],
        [
         "14",
         "ORD-1486922-01",
         "35",
         "34",
         "1",
         "0.02857142857142857"
        ],
        [
         "15",
         "ORD-1499979-01",
         "37",
         "36",
         "1",
         "0.02702702702702703"
        ],
        [
         "16",
         "ORD-1474211-01",
         "38",
         "37",
         "1",
         "0.02631578947368421"
        ],
        [
         "17",
         "ORD-1409291-01",
         "40",
         "39",
         "1",
         "0.025"
        ],
        [
         "18",
         "ORD-1503158-01",
         "40",
         "39",
         "1",
         "0.025"
        ],
        [
         "19",
         "ORD-1594243-01",
         "40",
         "39",
         "1",
         "0.025"
        ],
        [
         "20",
         "ORD-1296818-01",
         "43",
         "42",
         "1",
         "0.023255813953488372"
        ],
        [
         "21",
         "ORD-1539715-01",
         "43",
         "42",
         "1",
         "0.023255813953488372"
        ],
        [
         "22",
         "ORD-1564892-01",
         "43",
         "42",
         "1",
         "0.023255813953488372"
        ],
        [
         "23",
         "ORD-1310482-01",
         "43",
         "42",
         "1",
         "0.023255813953488372"
        ],
        [
         "24",
         "ORD-1505148-01",
         "91",
         "89",
         "2",
         "0.02197802197802198"
        ],
        [
         "25",
         "ORD-1600370-01",
         "47",
         "46",
         "1",
         "0.02127659574468085"
        ],
        [
         "26",
         "ORD-1463849-01",
         "49",
         "48",
         "1",
         "0.02040816326530612"
        ],
        [
         "27",
         "ORD-1510271-01",
         "54",
         "53",
         "1",
         "0.018518518518518517"
        ],
        [
         "28",
         "ORD-1516886-01",
         "55",
         "54",
         "1",
         "0.01818181818181818"
        ],
        [
         "29",
         "ORD-1230007-01",
         "56",
         "55",
         "1",
         "0.017857142857142856"
        ],
        [
         "30",
         "ORD-1362467-01",
         "60",
         "59",
         "1",
         "0.016666666666666666"
        ],
        [
         "31",
         "ORD-1270770-01",
         "60",
         "59",
         "1",
         "0.016666666666666666"
        ],
        [
         "32",
         "ORD-1392870-01",
         "62",
         "61",
         "1",
         "0.016129032258064516"
        ],
        [
         "33",
         "ORD-1514800-01",
         "66",
         "65",
         "1",
         "0.015151515151515152"
        ],
        [
         "34",
         "ORD-1568103-01",
         "67",
         "66",
         "1",
         "0.014925373134328358"
        ],
        [
         "35",
         "ORD-1563906-01",
         "69",
         "68",
         "1",
         "0.014492753623188406"
        ],
        [
         "36",
         "ORD-1287908-01",
         "27",
         "27",
         "0",
         "0.0"
        ],
        [
         "37",
         "ORD-1419853-01",
         "22",
         "22",
         "0",
         "0.0"
        ],
        [
         "38",
         "ORD-1414663-01",
         "12",
         "12",
         "0",
         "0.0"
        ],
        [
         "39",
         "ORD-1513115-01",
         "21",
         "21",
         "0",
         "0.0"
        ],
        [
         "40",
         "ORD-1575605-01",
         "10",
         "10",
         "0",
         "0.0"
        ],
        [
         "41",
         "ORD-1578252-01",
         "36",
         "36",
         "0",
         "0.0"
        ],
        [
         "42",
         "ORD-1306616-01",
         "17",
         "17",
         "0",
         "0.0"
        ],
        [
         "43",
         "ORD-1325097-01",
         "54",
         "54",
         "0",
         "0.0"
        ],
        [
         "44",
         "ORD-1285692-01",
         "20",
         "20",
         "0",
         "0.0"
        ],
        [
         "45",
         "ORD-1462572-01",
         "56",
         "56",
         "0",
         "0.0"
        ],
        [
         "46",
         "ORD-1499978-01",
         "35",
         "35",
         "0",
         "0.0"
        ],
        [
         "47",
         "ORD-1303567-01",
         "58",
         "58",
         "0",
         "0.0"
        ],
        [
         "48",
         "ORD-1198921-01",
         "43",
         "43",
         "0",
         "0.0"
        ],
        [
         "49",
         "ORD-1406220-01",
         "10",
         "10",
         "0",
         "0.0"
        ]
       ],
       "shape": {
        "columns": 5,
        "rows": 425
       }
      },
      "text/html": [
       "<div><style>\n",
       ".dataframe > thead > tr,\n",
       ".dataframe > tbody > tr {\n",
       "  text-align: right;\n",
       "  white-space: pre-wrap;\n",
       "}\n",
       "</style>\n",
       "<small>shape: (425, 5)</small><table border=\"1\" class=\"dataframe\"><thead><tr><th>sample_name</th><th>n_snv</th><th>n_real</th><th>n_artifacts</th><th>proportion</th></tr><tr><td>str</td><td>i64</td><td>i64</td><td>i64</td><td>f64</td></tr></thead><tbody><tr><td>&quot;ORD-1010565-01&quot;</td><td>12</td><td>9</td><td>3</td><td>0.25</td></tr><tr><td>&quot;ORD-1050682-01&quot;</td><td>8</td><td>7</td><td>1</td><td>0.125</td></tr><tr><td>&quot;ORD-1487773-01&quot;</td><td>41</td><td>37</td><td>4</td><td>0.097561</td></tr><tr><td>&quot;ORD-1521390-01&quot;</td><td>40</td><td>37</td><td>3</td><td>0.075</td></tr><tr><td>&quot;ORD-1127305-01&quot;</td><td>31</td><td>29</td><td>2</td><td>0.064516</td></tr><tr><td>&hellip;</td><td>&hellip;</td><td>&hellip;</td><td>&hellip;</td><td>&hellip;</td></tr><tr><td>&quot;ORD-1601357-01&quot;</td><td>21</td><td>21</td><td>0</td><td>0.0</td></tr><tr><td>&quot;ORD-1042000-01&quot;</td><td>35</td><td>35</td><td>0</td><td>0.0</td></tr><tr><td>&quot;ORD-1555240-01&quot;</td><td>11</td><td>11</td><td>0</td><td>0.0</td></tr><tr><td>&quot;ORD-1472386-01&quot;</td><td>45</td><td>45</td><td>0</td><td>0.0</td></tr><tr><td>&quot;ORD-1458564-01&quot;</td><td>20</td><td>20</td><td>0</td><td>0.0</td></tr></tbody></table></div>"
      ],
      "text/plain": [
       "shape: (425, 5)\n",
       "┌────────────────┬───────┬────────┬─────────────┬────────────┐\n",
       "│ sample_name    ┆ n_snv ┆ n_real ┆ n_artifacts ┆ proportion │\n",
       "│ ---            ┆ ---   ┆ ---    ┆ ---         ┆ ---        │\n",
       "│ str            ┆ i64   ┆ i64    ┆ i64         ┆ f64        │\n",
       "╞════════════════╪═══════╪════════╪═════════════╪════════════╡\n",
       "│ ORD-1010565-01 ┆ 12    ┆ 9      ┆ 3           ┆ 0.25       │\n",
       "│ ORD-1050682-01 ┆ 8     ┆ 7      ┆ 1           ┆ 0.125      │\n",
       "│ ORD-1487773-01 ┆ 41    ┆ 37     ┆ 4           ┆ 0.097561   │\n",
       "│ ORD-1521390-01 ┆ 40    ┆ 37     ┆ 3           ┆ 0.075      │\n",
       "│ ORD-1127305-01 ┆ 31    ┆ 29     ┆ 2           ┆ 0.064516   │\n",
       "│ …              ┆ …     ┆ …      ┆ …           ┆ …          │\n",
       "│ ORD-1601357-01 ┆ 21    ┆ 21     ┆ 0           ┆ 0.0        │\n",
       "│ ORD-1042000-01 ┆ 35    ┆ 35     ┆ 0           ┆ 0.0        │\n",
       "│ ORD-1555240-01 ┆ 11    ┆ 11     ┆ 0           ┆ 0.0        │\n",
       "│ ORD-1472386-01 ┆ 45    ┆ 45     ┆ 0           ┆ 0.0        │\n",
       "│ ORD-1458564-01 ┆ 20    ┆ 20     ┆ 0           ┆ 0.0        │\n",
       "└────────────────┴───────┴────────┴─────────────┴────────────┘"
      ]
     },
     "execution_count": 60,
     "metadata": {},
     "output_type": "execute_result"
    }
   ],
   "source": [
    "get_res(\"oxog\", 1e-08)"
   ]
  },
  {
   "cell_type": "code",
   "execution_count": 61,
   "id": "a23279ea",
   "metadata": {},
   "outputs": [
    {
     "name": "stdout",
     "output_type": "stream",
     "text": [
      "fp-cut: 0.5\n",
      "Samples analyzed: 425\n",
      "Samples with ≥1 predicted artifact: 13 (3.1%)\n",
      "Mean proportion of artifactual SNVs: 0.16%\n",
      "Max proportion of artifactual SNVs: 25.00%\n"
     ]
    },
    {
     "data": {
      "application/vnd.microsoft.datawrangler.viewer.v0+json": {
       "columns": [
        {
         "name": "index",
         "rawType": "int64",
         "type": "integer"
        },
        {
         "name": "sample_name",
         "rawType": "object",
         "type": "string"
        },
        {
         "name": "n_snv",
         "rawType": "int64",
         "type": "integer"
        },
        {
         "name": "n_real",
         "rawType": "int64",
         "type": "integer"
        },
        {
         "name": "n_artifacts",
         "rawType": "int64",
         "type": "integer"
        },
        {
         "name": "proportion",
         "rawType": "float64",
         "type": "float"
        }
       ],
       "ref": "8cc9d36f-5ff4-4588-8127-03bb51634207",
       "rows": [
        [
         "0",
         "ORD-1010565-01",
         "12",
         "9",
         "3",
         "0.25"
        ],
        [
         "1",
         "ORD-1487773-01",
         "41",
         "38",
         "3",
         "0.07317073170731707"
        ],
        [
         "2",
         "ORD-1127305-01",
         "31",
         "29",
         "2",
         "0.06451612903225806"
        ],
        [
         "3",
         "ORD-1539713-01",
         "20",
         "19",
         "1",
         "0.05"
        ],
        [
         "4",
         "ORD-1521390-01",
         "40",
         "38",
         "2",
         "0.05"
        ],
        [
         "5",
         "ORD-1401749-01",
         "57",
         "55",
         "2",
         "0.03508771929824561"
        ],
        [
         "6",
         "ORD-1537276-01",
         "33",
         "32",
         "1",
         "0.030303030303030304"
        ],
        [
         "7",
         "ORD-1409291-01",
         "40",
         "39",
         "1",
         "0.025"
        ],
        [
         "8",
         "ORD-1503158-01",
         "40",
         "39",
         "1",
         "0.025"
        ],
        [
         "9",
         "ORD-1539715-01",
         "43",
         "42",
         "1",
         "0.023255813953488372"
        ],
        [
         "10",
         "ORD-1463849-01",
         "49",
         "48",
         "1",
         "0.02040816326530612"
        ],
        [
         "11",
         "ORD-1598130-01",
         "56",
         "55",
         "1",
         "0.017857142857142856"
        ],
        [
         "12",
         "ORD-1514800-01",
         "66",
         "65",
         "1",
         "0.015151515151515152"
        ],
        [
         "13",
         "ORD-1287908-01",
         "27",
         "27",
         "0",
         "0.0"
        ],
        [
         "14",
         "ORD-1419853-01",
         "22",
         "22",
         "0",
         "0.0"
        ],
        [
         "15",
         "ORD-1414663-01",
         "12",
         "12",
         "0",
         "0.0"
        ],
        [
         "16",
         "ORD-1513115-01",
         "21",
         "21",
         "0",
         "0.0"
        ],
        [
         "17",
         "ORD-1575605-01",
         "10",
         "10",
         "0",
         "0.0"
        ],
        [
         "18",
         "ORD-1578252-01",
         "36",
         "36",
         "0",
         "0.0"
        ],
        [
         "19",
         "ORD-1306616-01",
         "17",
         "17",
         "0",
         "0.0"
        ],
        [
         "20",
         "ORD-1325097-01",
         "54",
         "54",
         "0",
         "0.0"
        ],
        [
         "21",
         "ORD-1285692-01",
         "20",
         "20",
         "0",
         "0.0"
        ],
        [
         "22",
         "ORD-1462572-01",
         "56",
         "56",
         "0",
         "0.0"
        ],
        [
         "23",
         "ORD-1499978-01",
         "35",
         "35",
         "0",
         "0.0"
        ],
        [
         "24",
         "ORD-1303567-01",
         "58",
         "58",
         "0",
         "0.0"
        ],
        [
         "25",
         "ORD-1198921-01",
         "43",
         "43",
         "0",
         "0.0"
        ],
        [
         "26",
         "ORD-1406220-01",
         "10",
         "10",
         "0",
         "0.0"
        ],
        [
         "27",
         "ORD-1452971-01",
         "10",
         "10",
         "0",
         "0.0"
        ],
        [
         "28",
         "ORD-1556064-01",
         "12",
         "12",
         "0",
         "0.0"
        ],
        [
         "29",
         "ORD-1307819-01",
         "56",
         "56",
         "0",
         "0.0"
        ],
        [
         "30",
         "ORD-1457373-01",
         "5",
         "5",
         "0",
         "0.0"
        ],
        [
         "31",
         "ORD-1458561-01",
         "16",
         "16",
         "0",
         "0.0"
        ],
        [
         "32",
         "ORD-1597562-01",
         "38",
         "38",
         "0",
         "0.0"
        ],
        [
         "33",
         "ORD-1333158-01",
         "44",
         "44",
         "0",
         "0.0"
        ],
        [
         "34",
         "ORD-1452014-01",
         "33",
         "33",
         "0",
         "0.0"
        ],
        [
         "35",
         "ORD-1571962-01",
         "11",
         "11",
         "0",
         "0.0"
        ],
        [
         "36",
         "ORD-1572657-01",
         "48",
         "48",
         "0",
         "0.0"
        ],
        [
         "37",
         "ORD-1478649-01",
         "28",
         "28",
         "0",
         "0.0"
        ],
        [
         "38",
         "ORD-1474094-01",
         "31",
         "31",
         "0",
         "0.0"
        ],
        [
         "39",
         "ORD-1542738-01",
         "31",
         "31",
         "0",
         "0.0"
        ],
        [
         "40",
         "ORD-1304370-01",
         "25",
         "25",
         "0",
         "0.0"
        ],
        [
         "41",
         "ORD-1600388-01",
         "33",
         "33",
         "0",
         "0.0"
        ],
        [
         "42",
         "ORD-1396121-01",
         "12",
         "12",
         "0",
         "0.0"
        ],
        [
         "43",
         "ORD-1246857-01",
         "22",
         "22",
         "0",
         "0.0"
        ],
        [
         "44",
         "ORD-1459743-01",
         "35",
         "35",
         "0",
         "0.0"
        ],
        [
         "45",
         "ORD-1489552-01",
         "59",
         "59",
         "0",
         "0.0"
        ],
        [
         "46",
         "ORD-1598720-01",
         "19",
         "19",
         "0",
         "0.0"
        ],
        [
         "47",
         "ORD-1508117-01",
         "27",
         "27",
         "0",
         "0.0"
        ],
        [
         "48",
         "ORD-1450923-01",
         "28",
         "28",
         "0",
         "0.0"
        ],
        [
         "49",
         "ORD-1568919-01",
         "21",
         "21",
         "0",
         "0.0"
        ]
       ],
       "shape": {
        "columns": 5,
        "rows": 425
       }
      },
      "text/html": [
       "<div><style>\n",
       ".dataframe > thead > tr,\n",
       ".dataframe > tbody > tr {\n",
       "  text-align: right;\n",
       "  white-space: pre-wrap;\n",
       "}\n",
       "</style>\n",
       "<small>shape: (425, 5)</small><table border=\"1\" class=\"dataframe\"><thead><tr><th>sample_name</th><th>n_snv</th><th>n_real</th><th>n_artifacts</th><th>proportion</th></tr><tr><td>str</td><td>i64</td><td>i64</td><td>i64</td><td>f64</td></tr></thead><tbody><tr><td>&quot;ORD-1010565-01&quot;</td><td>12</td><td>9</td><td>3</td><td>0.25</td></tr><tr><td>&quot;ORD-1487773-01&quot;</td><td>41</td><td>38</td><td>3</td><td>0.073171</td></tr><tr><td>&quot;ORD-1127305-01&quot;</td><td>31</td><td>29</td><td>2</td><td>0.064516</td></tr><tr><td>&quot;ORD-1539713-01&quot;</td><td>20</td><td>19</td><td>1</td><td>0.05</td></tr><tr><td>&quot;ORD-1521390-01&quot;</td><td>40</td><td>38</td><td>2</td><td>0.05</td></tr><tr><td>&hellip;</td><td>&hellip;</td><td>&hellip;</td><td>&hellip;</td><td>&hellip;</td></tr><tr><td>&quot;ORD-1042000-01&quot;</td><td>35</td><td>35</td><td>0</td><td>0.0</td></tr><tr><td>&quot;ORD-1555240-01&quot;</td><td>11</td><td>11</td><td>0</td><td>0.0</td></tr><tr><td>&quot;ORD-1472386-01&quot;</td><td>45</td><td>45</td><td>0</td><td>0.0</td></tr><tr><td>&quot;ORD-1458564-01&quot;</td><td>20</td><td>20</td><td>0</td><td>0.0</td></tr><tr><td>&quot;ORD-1310482-01&quot;</td><td>43</td><td>43</td><td>0</td><td>0.0</td></tr></tbody></table></div>"
      ],
      "text/plain": [
       "shape: (425, 5)\n",
       "┌────────────────┬───────┬────────┬─────────────┬────────────┐\n",
       "│ sample_name    ┆ n_snv ┆ n_real ┆ n_artifacts ┆ proportion │\n",
       "│ ---            ┆ ---   ┆ ---    ┆ ---         ┆ ---        │\n",
       "│ str            ┆ i64   ┆ i64    ┆ i64         ┆ f64        │\n",
       "╞════════════════╪═══════╪════════╪═════════════╪════════════╡\n",
       "│ ORD-1010565-01 ┆ 12    ┆ 9      ┆ 3           ┆ 0.25       │\n",
       "│ ORD-1487773-01 ┆ 41    ┆ 38     ┆ 3           ┆ 0.073171   │\n",
       "│ ORD-1127305-01 ┆ 31    ┆ 29     ┆ 2           ┆ 0.064516   │\n",
       "│ ORD-1539713-01 ┆ 20    ┆ 19     ┆ 1           ┆ 0.05       │\n",
       "│ ORD-1521390-01 ┆ 40    ┆ 38     ┆ 2           ┆ 0.05       │\n",
       "│ …              ┆ …     ┆ …      ┆ …           ┆ …          │\n",
       "│ ORD-1042000-01 ┆ 35    ┆ 35     ┆ 0           ┆ 0.0        │\n",
       "│ ORD-1555240-01 ┆ 11    ┆ 11     ┆ 0           ┆ 0.0        │\n",
       "│ ORD-1472386-01 ┆ 45    ┆ 45     ┆ 0           ┆ 0.0        │\n",
       "│ ORD-1458564-01 ┆ 20    ┆ 20     ┆ 0           ┆ 0.0        │\n",
       "│ ORD-1310482-01 ┆ 43    ┆ 43     ┆ 0           ┆ 0.0        │\n",
       "└────────────────┴───────┴────────┴─────────────┴────────────┘"
      ]
     },
     "execution_count": 61,
     "metadata": {},
     "output_type": "execute_result"
    }
   ],
   "source": [
    "get_res(\"oxog\", 5e-01)"
   ]
  },
  {
   "cell_type": "markdown",
   "id": "d22f7823",
   "metadata": {},
   "source": [
    "#### Observations - OxoG\n",
    "\n",
    "**2025/10/24**\n",
    "\n",
    "Out of 204 samples analyzed so far.\n",
    "\n",
    "- Using a stringent fp-cut of 1e-08: \n",
    "\t- 15/204 samples (7.3%) was observed to possess artifacts. \n",
    "\t- In terms of proportion of artifactual SNVs within a sample, the max was 25%, mean was 0.37%\n",
    "\n",
    "- Using a relaxed fp-cut of 5e-01: \n",
    "\t- 5/204 samples (2.45%) was observed to possess artifacts. \n",
    "\t- In terms of proportion of artifactual SNVs within a sample, the max was 25%, mean was 0.20%\n",
    "\n",
    "**2025/10/27**\n",
    "\n",
    "Out of 425 samples analyzed so far.\n",
    "\n",
    "- Using a stringent fp-cut of 1e-08: \n",
    "\t- 36/425 samples (8.5%) was observed to possess artifacts. \n",
    "\t- In terms of proportion of artifactual SNVs within a sample, the max was 25%; mean was 0.34%\n",
    "\n",
    "- Using a relaxed fp-cut of 5e-01: \n",
    "\t- 13/425 samples (3.1%) was observed to possess artifacts. \n",
    "\t- In terms of proportion of artifactual SNVs within a sample, the max was 25%; mean was 0.16%"
   ]
  }
 ],
 "metadata": {
  "kernelspec": {
   "display_name": "ffpe-bench",
   "language": "python",
   "name": "python3"
  },
  "language_info": {
   "codemirror_mode": {
    "name": "ipython",
    "version": 3
   },
   "file_extension": ".py",
   "mimetype": "text/x-python",
   "name": "python",
   "nbconvert_exporter": "python",
   "pygments_lexer": "ipython3",
   "version": "3.12.11"
  }
 },
 "nbformat": 4,
 "nbformat_minor": 5
}
